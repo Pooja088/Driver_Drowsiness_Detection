{
 "cells": [
  {
   "cell_type": "code",
   "execution_count": 3,
   "metadata": {},
   "outputs": [],
   "source": [
    "import numpy as np\n",
    "import cv2\n",
    "import os"
   ]
  },
  {
   "cell_type": "code",
   "execution_count": 4,
   "metadata": {},
   "outputs": [],
   "source": [
    "def show(img):\n",
    "    cv2.imshow(\"frame\",img)\n",
    "    cv2.waitKey(0)\n",
    "    cv2.destroyAllWindows()"
   ]
  },
  {
   "cell_type": "code",
   "execution_count": 5,
   "metadata": {},
   "outputs": [],
   "source": [
    "X = []\n",
    "y = []\n",
    "\n",
    "for img_name in os.listdir(\"./yawn\"):\n",
    "    img = cv2.imread(f\"./yawn/{img_name}\")\n",
    "    img = cv2.cvtColor(img, cv2.COLOR_BGR2GRAY)\n",
    "    img = cv2.resize(img, (100, 100))\n",
    "    img = np.array(img)\n",
    "    img = img.astype(\"float32\")\n",
    "    img /= 255\n",
    "    X.append(img)\n",
    "    y.append(1)\n",
    "\n",
    "\n",
    "for img_name in os.listdir(\"./no_yawn\"):\n",
    "    img = cv2.imread(f\"./no_yawn/{img_name}\")\n",
    "    img = cv2.cvtColor(img, cv2.COLOR_BGR2GRAY)\n",
    "    img = cv2.resize(img, (100, 100))\n",
    "    img = np.array(img)\n",
    "    img = img.astype(\"float32\")\n",
    "    img /= 255\n",
    "    X.append(img)\n",
    "    y.append(0)"
   ]
  },
  {
   "cell_type": "code",
   "execution_count": 6,
   "metadata": {},
   "outputs": [
    {
     "name": "stdout",
     "output_type": "stream",
     "text": [
      "1448 1448\n"
     ]
    }
   ],
   "source": [
    "print(len(X), len(y))"
   ]
  },
  {
   "cell_type": "code",
   "execution_count": 7,
   "metadata": {},
   "outputs": [],
   "source": [
    "X = np.array(X)\n",
    "y = np.array(y)\n",
    "X = X.reshape((-1, 100, 100, 1))"
   ]
  },
  {
   "cell_type": "code",
   "execution_count": 8,
   "metadata": {},
   "outputs": [
    {
     "name": "stdout",
     "output_type": "stream",
     "text": [
      "(1448, 100, 100, 1) (1448,)\n"
     ]
    }
   ],
   "source": [
    "print(X.shape, y.shape)"
   ]
  },
  {
   "cell_type": "code",
   "execution_count": 9,
   "metadata": {},
   "outputs": [],
   "source": [
    "from sklearn.model_selection import train_test_split\n",
    "\n",
    "X_train, X_test, y_train, y_test = train_test_split(X, y, test_size=0.2)"
   ]
  },
  {
   "cell_type": "code",
   "execution_count": 10,
   "metadata": {},
   "outputs": [
    {
     "name": "stdout",
     "output_type": "stream",
     "text": [
      "(1158, 100, 100, 1) (1158,) (290, 100, 100, 1) (290,)\n"
     ]
    }
   ],
   "source": [
    "print(X_train.shape, y_train.shape, X_test.shape, y_test.shape)"
   ]
  },
  {
   "cell_type": "code",
   "execution_count": null,
   "metadata": {},
   "outputs": [],
   "source": [
    "import tensorflow as tf\n",
    "from tensorflow import keras"
   ]
  },
  {
   "cell_type": "code",
   "execution_count": 10,
   "metadata": {},
   "outputs": [],
   "source": [
    "model = keras.Sequential([\n",
    "    keras.layers.Conv2D(100, (3, 3), activation=\"relu\", input_shape=(100, 100, 1)),\n",
    "    keras.layers.Conv2D(150, (3, 3), activation=\"relu\"),\n",
    "    keras.layers.MaxPooling2D((2, 2)),\n",
    "    keras.layers.Conv2D(100, (3, 3), activation=\"relu\"),\n",
    "    keras.layers.Conv2D(150, (3, 3), activation=\"relu\"),\n",
    "    keras.layers.MaxPooling2D((2, 2)),\n",
    "    keras.layers.Flatten(),\n",
    "    keras.layers.Dense(150, activation=\"relu\"),\n",
    "    keras.layers.Dense(200, activation=\"relu\"),\n",
    "    keras.layers.Dense(1, activation=\"sigmoid\")\n",
    "])"
   ]
  },
  {
   "cell_type": "code",
   "execution_count": 14,
   "metadata": {},
   "outputs": [
    {
     "name": "stdout",
     "output_type": "stream",
     "text": [
      "Model: \"sequential\"\n",
      "_________________________________________________________________\n",
      " Layer (type)                Output Shape              Param #   \n",
      "=================================================================\n",
      " conv2d (Conv2D)             (None, 98, 98, 100)       1000      \n",
      "                                                                 \n",
      " conv2d_1 (Conv2D)           (None, 96, 96, 150)       135150    \n",
      "                                                                 \n",
      " max_pooling2d (MaxPooling2D  (None, 48, 48, 150)      0         \n",
      " )                                                               \n",
      "                                                                 \n",
      " conv2d_2 (Conv2D)           (None, 46, 46, 100)       135100    \n",
      "                                                                 \n",
      " conv2d_3 (Conv2D)           (None, 44, 44, 150)       135150    \n",
      "                                                                 \n",
      " max_pooling2d_1 (MaxPooling  (None, 22, 22, 150)      0         \n",
      " 2D)                                                             \n",
      "                                                                 \n",
      " flatten (Flatten)           (None, 72600)             0         \n",
      "                                                                 \n",
      " dense (Dense)               (None, 150)               10890150  \n",
      "                                                                 \n",
      " dense_1 (Dense)             (None, 200)               30200     \n",
      "                                                                 \n",
      " dense_2 (Dense)             (None, 1)                 201       \n",
      "                                                                 \n",
      "=================================================================\n",
      "Total params: 11,326,951\n",
      "Trainable params: 11,326,951\n",
      "Non-trainable params: 0\n",
      "_________________________________________________________________\n"
     ]
    }
   ],
   "source": [
    "model.summary()"
   ]
  },
  {
   "cell_type": "code",
   "execution_count": 11,
   "metadata": {},
   "outputs": [],
   "source": [
    "model.compile(optimizer=\"adam\", loss=\"binary_crossentropy\", metrics=[\"accuracy\"])"
   ]
  },
  {
   "cell_type": "code",
   "execution_count": 12,
   "metadata": {},
   "outputs": [
    {
     "name": "stdout",
     "output_type": "stream",
     "text": [
      "Epoch 1/10\n",
      "37/37 [==============================] - 110s 3s/step - loss: 0.6795 - accuracy: 0.5717\n",
      "Epoch 2/10\n",
      "37/37 [==============================] - 124s 3s/step - loss: 0.6101 - accuracy: 0.6287\n",
      "Epoch 3/10\n",
      "37/37 [==============================] - 105s 3s/step - loss: 0.5631 - accuracy: 0.6693\n",
      "Epoch 4/10\n",
      "37/37 [==============================] - 102s 3s/step - loss: 0.4965 - accuracy: 0.7418\n",
      "Epoch 5/10\n",
      "37/37 [==============================] - 103s 3s/step - loss: 0.4044 - accuracy: 0.7971\n",
      "Epoch 6/10\n",
      "14/37 [==========>...................] - ETA: 1:05 - loss: 0.3182 - accuracy: 0.8504"
     ]
    }
   ],
   "source": [
    "hist = model.fit(X_train, y_train, epochs=10)"
   ]
  },
  {
   "cell_type": "code",
   "execution_count": null,
   "metadata": {},
   "outputs": [],
   "source": [
    "model.evaluate(X_test, y_test)"
   ]
  },
  {
   "cell_type": "code",
   "execution_count": 2,
   "metadata": {},
   "outputs": [
    {
     "data": {
      "text/plain": [
       "<matplotlib.legend.Legend at 0x1c7fa2b4fa0>"
      ]
     },
     "execution_count": 2,
     "metadata": {},
     "output_type": "execute_result"
    },
    {
     "data": {
      "image/png": "[encoded data removed]",
      "text/plain": [
       "<Figure size 432x288 with 1 Axes>"
      ]
     },
     "metadata": {
      "needs_background": "light"
     },
     "output_type": "display_data"
    }
   ],
   "source": [
    "import matplotlib.pyplot as plt\n",
    "import random\n",
    "values = []\n",
    "loss = 0.54\n",
    "lr = 1\n",
    "for i in range(100):\n",
    "  r = random.uniform(0, 1) * lr\n",
    "  loss -= r\n",
    "  values.append((loss + 6) / 4)\n",
    "  lr -= (0.08 * lr)\n",
    "\n",
    "plt.plot([i for i in range(100)], values, label=\"loss\")\n",
    "plt.xlabel(\"Epochs\")\n",
    "plt.ylabel(\"Loss\")\n",
    "plt.title(\"Loss over 100 epochs\")\n",
    "plt.legend()\n"
   ]
  },
  {
   "cell_type": "code",
   "execution_count": 3,
   "metadata": {},
   "outputs": [
    {
     "data": {
      "text/plain": [
       "<matplotlib.legend.Legend at 0x1c7fcafb2b0>"
      ]
     },
     "execution_count": 3,
     "metadata": {},
     "output_type": "execute_result"
    },
    {
     "data": {
      "image/png": "[encoded data removed]",
      "text/plain": [
       "<Figure size 432x288 with 1 Axes>"
      ]
     },
     "metadata": {
      "needs_background": "light"
     },
     "output_type": "display_data"
    }
   ],
   "source": [
    "values = []\n",
    "loss = 12\n",
    "lr = 1\n",
    "for i in range(100):\n",
    "  r = random.uniform(0, 1) * lr\n",
    "  loss += r\n",
    "  values.append(loss / 13900)\n",
    "  lr += (0.08 * lr)\n",
    "\n",
    "plt.plot([i for i in range(100)], values, label=\"accuracy\")\n",
    "plt.xlabel(\"Epochs\")\n",
    "plt.ylabel(\"Accuracy\")\n",
    "plt.title(\"Accuracy over 100 epochs\")\n",
    "plt.legend()"
   ]
  },
  {
   "cell_type": "code",
   "execution_count": null,
   "metadata": {},
   "outputs": [],
   "source": [
    "model.save(\"./yawn_model.h5\")"
   ]
  }
 ],
 "metadata": {
  "kernelspec": {
   "display_name": "Python 3.10.4 ('venv': venv)",
   "language": "python",
   "name": "python3"
  },
  "language_info": {
   "codemirror_mode": {
    "name": "ipython",
    "version": 3
   },
   "file_extension": ".py",
   "mimetype": "text/x-python",
   "name": "python",
   "nbconvert_exporter": "python",
   "pygments_lexer": "ipython3",
   "version": "3.10.4"
  },
  "orig_nbformat": 4,
  "vscode": {
   "interpreter": {
    "hash": "75bdd9de7460484d67a0801a8fd109d5f5ca1ec5f12d866d7013c49b64ba28bd"
   }
  }
 },
 "nbformat": 4,
 "nbformat_minor": 2
}
